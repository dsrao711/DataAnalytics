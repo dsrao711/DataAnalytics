{
 "cells": [
  {
   "cell_type": "code",
   "execution_count": 30,
   "id": "otherwise-mongolia",
   "metadata": {},
   "outputs": [],
   "source": [
    "import pandas as pd"
   ]
  },
  {
   "cell_type": "code",
   "execution_count": 31,
   "id": "destroyed-spoke",
   "metadata": {},
   "outputs": [],
   "source": [
    "people = {\n",
    "    \"first\" : [\"Sutton\" , \"Kat\" , \"Jane\"] ,\n",
    "     \"last\" : [\"Brady\" , \"Edison\" , \"Sloan\"] ,\n",
    "     \"email\" : [\"sutton@gmail.com\" , \"kat@gmail.com\" , \"jane@gmail.com\"],\n",
    "     \"workplace\" : [\"Scarlet\" , \"Scarlet\" , \"Incite\"]\n",
    "}"
   ]
  },
  {
   "cell_type": "code",
   "execution_count": 32,
   "id": "greater-prayer",
   "metadata": {},
   "outputs": [],
   "source": [
    "df = pd.DataFrame(people)"
   ]
  },
  {
   "cell_type": "code",
   "execution_count": 33,
   "id": "renewable-equation",
   "metadata": {},
   "outputs": [
    {
     "data": {
      "text/html": [
       "<div>\n",
       "<style scoped>\n",
       "    .dataframe tbody tr th:only-of-type {\n",
       "        vertical-align: middle;\n",
       "    }\n",
       "\n",
       "    .dataframe tbody tr th {\n",
       "        vertical-align: top;\n",
       "    }\n",
       "\n",
       "    .dataframe thead th {\n",
       "        text-align: right;\n",
       "    }\n",
       "</style>\n",
       "<table border=\"1\" class=\"dataframe\">\n",
       "  <thead>\n",
       "    <tr style=\"text-align: right;\">\n",
       "      <th></th>\n",
       "      <th>first</th>\n",
       "      <th>last</th>\n",
       "      <th>email</th>\n",
       "      <th>workplace</th>\n",
       "    </tr>\n",
       "  </thead>\n",
       "  <tbody>\n",
       "    <tr>\n",
       "      <th>0</th>\n",
       "      <td>Sutton</td>\n",
       "      <td>Brady</td>\n",
       "      <td>sutton@gmail.com</td>\n",
       "      <td>Scarlet</td>\n",
       "    </tr>\n",
       "    <tr>\n",
       "      <th>1</th>\n",
       "      <td>Kat</td>\n",
       "      <td>Edison</td>\n",
       "      <td>kat@gmail.com</td>\n",
       "      <td>Scarlet</td>\n",
       "    </tr>\n",
       "    <tr>\n",
       "      <th>2</th>\n",
       "      <td>Jane</td>\n",
       "      <td>Sloan</td>\n",
       "      <td>jane@gmail.com</td>\n",
       "      <td>Incite</td>\n",
       "    </tr>\n",
       "  </tbody>\n",
       "</table>\n",
       "</div>"
      ],
      "text/plain": [
       "    first    last             email workplace\n",
       "0  Sutton   Brady  sutton@gmail.com   Scarlet\n",
       "1     Kat  Edison     kat@gmail.com   Scarlet\n",
       "2    Jane   Sloan    jane@gmail.com    Incite"
      ]
     },
     "execution_count": 33,
     "metadata": {},
     "output_type": "execute_result"
    }
   ],
   "source": [
    "df"
   ]
  },
  {
   "cell_type": "markdown",
   "id": "signal-setting",
   "metadata": {},
   "source": [
    "## Add columns"
   ]
  },
  {
   "cell_type": "code",
   "execution_count": 34,
   "id": "designing-mentor",
   "metadata": {},
   "outputs": [
    {
     "data": {
      "text/html": [
       "<div>\n",
       "<style scoped>\n",
       "    .dataframe tbody tr th:only-of-type {\n",
       "        vertical-align: middle;\n",
       "    }\n",
       "\n",
       "    .dataframe tbody tr th {\n",
       "        vertical-align: top;\n",
       "    }\n",
       "\n",
       "    .dataframe thead th {\n",
       "        text-align: right;\n",
       "    }\n",
       "</style>\n",
       "<table border=\"1\" class=\"dataframe\">\n",
       "  <thead>\n",
       "    <tr style=\"text-align: right;\">\n",
       "      <th></th>\n",
       "      <th>first</th>\n",
       "      <th>last</th>\n",
       "      <th>email</th>\n",
       "      <th>workplace</th>\n",
       "      <th>full_name</th>\n",
       "    </tr>\n",
       "  </thead>\n",
       "  <tbody>\n",
       "    <tr>\n",
       "      <th>0</th>\n",
       "      <td>Sutton</td>\n",
       "      <td>Brady</td>\n",
       "      <td>sutton@gmail.com</td>\n",
       "      <td>Scarlet</td>\n",
       "      <td>SuttonBrady</td>\n",
       "    </tr>\n",
       "    <tr>\n",
       "      <th>1</th>\n",
       "      <td>Kat</td>\n",
       "      <td>Edison</td>\n",
       "      <td>kat@gmail.com</td>\n",
       "      <td>Scarlet</td>\n",
       "      <td>KatEdison</td>\n",
       "    </tr>\n",
       "    <tr>\n",
       "      <th>2</th>\n",
       "      <td>Jane</td>\n",
       "      <td>Sloan</td>\n",
       "      <td>jane@gmail.com</td>\n",
       "      <td>Incite</td>\n",
       "      <td>JaneSloan</td>\n",
       "    </tr>\n",
       "  </tbody>\n",
       "</table>\n",
       "</div>"
      ],
      "text/plain": [
       "    first    last             email workplace    full_name\n",
       "0  Sutton   Brady  sutton@gmail.com   Scarlet  SuttonBrady\n",
       "1     Kat  Edison     kat@gmail.com   Scarlet    KatEdison\n",
       "2    Jane   Sloan    jane@gmail.com    Incite    JaneSloan"
      ]
     },
     "execution_count": 34,
     "metadata": {},
     "output_type": "execute_result"
    }
   ],
   "source": [
    "df['full_name'] = df['first'] + '' + df['last']\n",
    "df"
   ]
  },
  {
   "cell_type": "code",
   "execution_count": 35,
   "id": "worth-german",
   "metadata": {},
   "outputs": [
    {
     "data": {
      "text/html": [
       "<div>\n",
       "<style scoped>\n",
       "    .dataframe tbody tr th:only-of-type {\n",
       "        vertical-align: middle;\n",
       "    }\n",
       "\n",
       "    .dataframe tbody tr th {\n",
       "        vertical-align: top;\n",
       "    }\n",
       "\n",
       "    .dataframe thead th {\n",
       "        text-align: right;\n",
       "    }\n",
       "</style>\n",
       "<table border=\"1\" class=\"dataframe\">\n",
       "  <thead>\n",
       "    <tr style=\"text-align: right;\">\n",
       "      <th></th>\n",
       "      <th>first</th>\n",
       "      <th>last</th>\n",
       "      <th>email</th>\n",
       "      <th>workplace</th>\n",
       "      <th>full_name</th>\n",
       "    </tr>\n",
       "  </thead>\n",
       "  <tbody>\n",
       "    <tr>\n",
       "      <th>0</th>\n",
       "      <td>Sutton</td>\n",
       "      <td>Brady</td>\n",
       "      <td>sutton@gmail.com</td>\n",
       "      <td>Scarlet</td>\n",
       "      <td>SuttonBrady</td>\n",
       "    </tr>\n",
       "    <tr>\n",
       "      <th>1</th>\n",
       "      <td>Kat</td>\n",
       "      <td>Edison</td>\n",
       "      <td>kat@gmail.com</td>\n",
       "      <td>Scarlet</td>\n",
       "      <td>KatEdison</td>\n",
       "    </tr>\n",
       "    <tr>\n",
       "      <th>2</th>\n",
       "      <td>Jane</td>\n",
       "      <td>Sloan</td>\n",
       "      <td>jane@gmail.com</td>\n",
       "      <td>Incite</td>\n",
       "      <td>JaneSloan</td>\n",
       "    </tr>\n",
       "  </tbody>\n",
       "</table>\n",
       "</div>"
      ],
      "text/plain": [
       "    first    last             email workplace    full_name\n",
       "0  Sutton   Brady  sutton@gmail.com   Scarlet  SuttonBrady\n",
       "1     Kat  Edison     kat@gmail.com   Scarlet    KatEdison\n",
       "2    Jane   Sloan    jane@gmail.com    Incite    JaneSloan"
      ]
     },
     "execution_count": 35,
     "metadata": {},
     "output_type": "execute_result"
    }
   ],
   "source": [
    "df"
   ]
  },
  {
   "cell_type": "markdown",
   "id": "located-alliance",
   "metadata": {},
   "source": [
    "## Drop Columns"
   ]
  },
  {
   "cell_type": "code",
   "execution_count": 36,
   "id": "variable-cincinnati",
   "metadata": {},
   "outputs": [],
   "source": [
    "df.drop(columns = 'full_name' , inplace = True)"
   ]
  },
  {
   "cell_type": "code",
   "execution_count": 37,
   "id": "competent-competition",
   "metadata": {},
   "outputs": [
    {
     "data": {
      "text/html": [
       "<div>\n",
       "<style scoped>\n",
       "    .dataframe tbody tr th:only-of-type {\n",
       "        vertical-align: middle;\n",
       "    }\n",
       "\n",
       "    .dataframe tbody tr th {\n",
       "        vertical-align: top;\n",
       "    }\n",
       "\n",
       "    .dataframe thead th {\n",
       "        text-align: right;\n",
       "    }\n",
       "</style>\n",
       "<table border=\"1\" class=\"dataframe\">\n",
       "  <thead>\n",
       "    <tr style=\"text-align: right;\">\n",
       "      <th></th>\n",
       "      <th>first</th>\n",
       "      <th>last</th>\n",
       "      <th>email</th>\n",
       "      <th>workplace</th>\n",
       "    </tr>\n",
       "  </thead>\n",
       "  <tbody>\n",
       "    <tr>\n",
       "      <th>0</th>\n",
       "      <td>Sutton</td>\n",
       "      <td>Brady</td>\n",
       "      <td>sutton@gmail.com</td>\n",
       "      <td>Scarlet</td>\n",
       "    </tr>\n",
       "    <tr>\n",
       "      <th>1</th>\n",
       "      <td>Kat</td>\n",
       "      <td>Edison</td>\n",
       "      <td>kat@gmail.com</td>\n",
       "      <td>Scarlet</td>\n",
       "    </tr>\n",
       "    <tr>\n",
       "      <th>2</th>\n",
       "      <td>Jane</td>\n",
       "      <td>Sloan</td>\n",
       "      <td>jane@gmail.com</td>\n",
       "      <td>Incite</td>\n",
       "    </tr>\n",
       "  </tbody>\n",
       "</table>\n",
       "</div>"
      ],
      "text/plain": [
       "    first    last             email workplace\n",
       "0  Sutton   Brady  sutton@gmail.com   Scarlet\n",
       "1     Kat  Edison     kat@gmail.com   Scarlet\n",
       "2    Jane   Sloan    jane@gmail.com    Incite"
      ]
     },
     "execution_count": 37,
     "metadata": {},
     "output_type": "execute_result"
    }
   ],
   "source": [
    "df\n"
   ]
  },
  {
   "cell_type": "markdown",
   "id": "aware-ratio",
   "metadata": {},
   "source": [
    "#### Add and separate a column using string methods\n"
   ]
  },
  {
   "cell_type": "code",
   "execution_count": 38,
   "id": "prompt-lesson",
   "metadata": {},
   "outputs": [
    {
     "data": {
      "text/html": [
       "<div>\n",
       "<style scoped>\n",
       "    .dataframe tbody tr th:only-of-type {\n",
       "        vertical-align: middle;\n",
       "    }\n",
       "\n",
       "    .dataframe tbody tr th {\n",
       "        vertical-align: top;\n",
       "    }\n",
       "\n",
       "    .dataframe thead th {\n",
       "        text-align: right;\n",
       "    }\n",
       "</style>\n",
       "<table border=\"1\" class=\"dataframe\">\n",
       "  <thead>\n",
       "    <tr style=\"text-align: right;\">\n",
       "      <th></th>\n",
       "      <th>first</th>\n",
       "      <th>last</th>\n",
       "      <th>email</th>\n",
       "      <th>workplace</th>\n",
       "      <th>Full Name</th>\n",
       "    </tr>\n",
       "  </thead>\n",
       "  <tbody>\n",
       "    <tr>\n",
       "      <th>0</th>\n",
       "      <td>Sutton</td>\n",
       "      <td>Brady</td>\n",
       "      <td>sutton@gmail.com</td>\n",
       "      <td>Scarlet</td>\n",
       "      <td>Sutton Brady</td>\n",
       "    </tr>\n",
       "    <tr>\n",
       "      <th>1</th>\n",
       "      <td>Kat</td>\n",
       "      <td>Edison</td>\n",
       "      <td>kat@gmail.com</td>\n",
       "      <td>Scarlet</td>\n",
       "      <td>Kat Edison</td>\n",
       "    </tr>\n",
       "    <tr>\n",
       "      <th>2</th>\n",
       "      <td>Jane</td>\n",
       "      <td>Sloan</td>\n",
       "      <td>jane@gmail.com</td>\n",
       "      <td>Incite</td>\n",
       "      <td>Jane Sloan</td>\n",
       "    </tr>\n",
       "  </tbody>\n",
       "</table>\n",
       "</div>"
      ],
      "text/plain": [
       "    first    last             email workplace     Full Name\n",
       "0  Sutton   Brady  sutton@gmail.com   Scarlet  Sutton Brady\n",
       "1     Kat  Edison     kat@gmail.com   Scarlet    Kat Edison\n",
       "2    Jane   Sloan    jane@gmail.com    Incite    Jane Sloan"
      ]
     },
     "execution_count": 38,
     "metadata": {},
     "output_type": "execute_result"
    }
   ],
   "source": [
    "df['Full Name'] = df['first'] + ' ' + df['last']\n",
    "df"
   ]
  },
  {
   "cell_type": "code",
   "execution_count": 39,
   "id": "exciting-observer",
   "metadata": {
    "scrolled": true
   },
   "outputs": [
    {
     "data": {
      "text/html": [
       "<div>\n",
       "<style scoped>\n",
       "    .dataframe tbody tr th:only-of-type {\n",
       "        vertical-align: middle;\n",
       "    }\n",
       "\n",
       "    .dataframe tbody tr th {\n",
       "        vertical-align: top;\n",
       "    }\n",
       "\n",
       "    .dataframe thead th {\n",
       "        text-align: right;\n",
       "    }\n",
       "</style>\n",
       "<table border=\"1\" class=\"dataframe\">\n",
       "  <thead>\n",
       "    <tr style=\"text-align: right;\">\n",
       "      <th></th>\n",
       "      <th>first</th>\n",
       "      <th>last</th>\n",
       "      <th>email</th>\n",
       "      <th>workplace</th>\n",
       "      <th>Full Name</th>\n",
       "      <th>first_split</th>\n",
       "      <th>last_split</th>\n",
       "    </tr>\n",
       "  </thead>\n",
       "  <tbody>\n",
       "    <tr>\n",
       "      <th>0</th>\n",
       "      <td>Sutton</td>\n",
       "      <td>Brady</td>\n",
       "      <td>sutton@gmail.com</td>\n",
       "      <td>Scarlet</td>\n",
       "      <td>Sutton Brady</td>\n",
       "      <td>Sutton</td>\n",
       "      <td>Brady</td>\n",
       "    </tr>\n",
       "    <tr>\n",
       "      <th>1</th>\n",
       "      <td>Kat</td>\n",
       "      <td>Edison</td>\n",
       "      <td>kat@gmail.com</td>\n",
       "      <td>Scarlet</td>\n",
       "      <td>Kat Edison</td>\n",
       "      <td>Kat</td>\n",
       "      <td>Edison</td>\n",
       "    </tr>\n",
       "    <tr>\n",
       "      <th>2</th>\n",
       "      <td>Jane</td>\n",
       "      <td>Sloan</td>\n",
       "      <td>jane@gmail.com</td>\n",
       "      <td>Incite</td>\n",
       "      <td>Jane Sloan</td>\n",
       "      <td>Jane</td>\n",
       "      <td>Sloan</td>\n",
       "    </tr>\n",
       "  </tbody>\n",
       "</table>\n",
       "</div>"
      ],
      "text/plain": [
       "    first    last             email workplace     Full Name first_split  \\\n",
       "0  Sutton   Brady  sutton@gmail.com   Scarlet  Sutton Brady      Sutton   \n",
       "1     Kat  Edison     kat@gmail.com   Scarlet    Kat Edison         Kat   \n",
       "2    Jane   Sloan    jane@gmail.com    Incite    Jane Sloan        Jane   \n",
       "\n",
       "  last_split  \n",
       "0      Brady  \n",
       "1     Edison  \n",
       "2      Sloan  "
      ]
     },
     "execution_count": 39,
     "metadata": {},
     "output_type": "execute_result"
    }
   ],
   "source": [
    "df[['first_split' , 'last_split']] = df['Full Name'].str.split(' ' , expand = True)\n",
    "df"
   ]
  },
  {
   "cell_type": "code",
   "execution_count": 40,
   "id": "bulgarian-mother",
   "metadata": {},
   "outputs": [
    {
     "data": {
      "text/html": [
       "<div>\n",
       "<style scoped>\n",
       "    .dataframe tbody tr th:only-of-type {\n",
       "        vertical-align: middle;\n",
       "    }\n",
       "\n",
       "    .dataframe tbody tr th {\n",
       "        vertical-align: top;\n",
       "    }\n",
       "\n",
       "    .dataframe thead th {\n",
       "        text-align: right;\n",
       "    }\n",
       "</style>\n",
       "<table border=\"1\" class=\"dataframe\">\n",
       "  <thead>\n",
       "    <tr style=\"text-align: right;\">\n",
       "      <th></th>\n",
       "      <th>first</th>\n",
       "      <th>last</th>\n",
       "      <th>email</th>\n",
       "      <th>workplace</th>\n",
       "      <th>Full Name</th>\n",
       "    </tr>\n",
       "  </thead>\n",
       "  <tbody>\n",
       "    <tr>\n",
       "      <th>0</th>\n",
       "      <td>Sutton</td>\n",
       "      <td>Brady</td>\n",
       "      <td>sutton@gmail.com</td>\n",
       "      <td>Scarlet</td>\n",
       "      <td>Sutton Brady</td>\n",
       "    </tr>\n",
       "    <tr>\n",
       "      <th>1</th>\n",
       "      <td>Kat</td>\n",
       "      <td>Edison</td>\n",
       "      <td>kat@gmail.com</td>\n",
       "      <td>Scarlet</td>\n",
       "      <td>Kat Edison</td>\n",
       "    </tr>\n",
       "    <tr>\n",
       "      <th>2</th>\n",
       "      <td>Jane</td>\n",
       "      <td>Sloan</td>\n",
       "      <td>jane@gmail.com</td>\n",
       "      <td>Incite</td>\n",
       "      <td>Jane Sloan</td>\n",
       "    </tr>\n",
       "  </tbody>\n",
       "</table>\n",
       "</div>"
      ],
      "text/plain": [
       "    first    last             email workplace     Full Name\n",
       "0  Sutton   Brady  sutton@gmail.com   Scarlet  Sutton Brady\n",
       "1     Kat  Edison     kat@gmail.com   Scarlet    Kat Edison\n",
       "2    Jane   Sloan    jane@gmail.com    Incite    Jane Sloan"
      ]
     },
     "execution_count": 40,
     "metadata": {},
     "output_type": "execute_result"
    }
   ],
   "source": [
    "df.drop(columns = ['first_split' , 'last_split'] , inplace = True)\n",
    "df"
   ]
  },
  {
   "cell_type": "markdown",
   "id": "exciting-vitamin",
   "metadata": {},
   "source": [
    "### Adding a single row of data\n",
    "Append"
   ]
  },
  {
   "cell_type": "code",
   "execution_count": 44,
   "id": "prepared-wagner",
   "metadata": {},
   "outputs": [
    {
     "data": {
      "text/html": [
       "<div>\n",
       "<style scoped>\n",
       "    .dataframe tbody tr th:only-of-type {\n",
       "        vertical-align: middle;\n",
       "    }\n",
       "\n",
       "    .dataframe tbody tr th {\n",
       "        vertical-align: top;\n",
       "    }\n",
       "\n",
       "    .dataframe thead th {\n",
       "        text-align: right;\n",
       "    }\n",
       "</style>\n",
       "<table border=\"1\" class=\"dataframe\">\n",
       "  <thead>\n",
       "    <tr style=\"text-align: right;\">\n",
       "      <th></th>\n",
       "      <th>first</th>\n",
       "      <th>last</th>\n",
       "      <th>email</th>\n",
       "      <th>workplace</th>\n",
       "      <th>Full Name</th>\n",
       "    </tr>\n",
       "  </thead>\n",
       "  <tbody>\n",
       "    <tr>\n",
       "      <th>0</th>\n",
       "      <td>Sutton</td>\n",
       "      <td>Brady</td>\n",
       "      <td>sutton@gmail.com</td>\n",
       "      <td>Scarlet</td>\n",
       "      <td>Sutton Brady</td>\n",
       "    </tr>\n",
       "    <tr>\n",
       "      <th>1</th>\n",
       "      <td>Kat</td>\n",
       "      <td>Edison</td>\n",
       "      <td>kat@gmail.com</td>\n",
       "      <td>Scarlet</td>\n",
       "      <td>Kat Edison</td>\n",
       "    </tr>\n",
       "    <tr>\n",
       "      <th>2</th>\n",
       "      <td>Jane</td>\n",
       "      <td>Sloan</td>\n",
       "      <td>jane@gmail.com</td>\n",
       "      <td>Incite</td>\n",
       "      <td>Jane Sloan</td>\n",
       "    </tr>\n",
       "    <tr>\n",
       "      <th>3</th>\n",
       "      <td>Adena</td>\n",
       "      <td>NaN</td>\n",
       "      <td>NaN</td>\n",
       "      <td>NaN</td>\n",
       "      <td>NaN</td>\n",
       "    </tr>\n",
       "  </tbody>\n",
       "</table>\n",
       "</div>"
      ],
      "text/plain": [
       "    first    last             email workplace     Full Name\n",
       "0  Sutton   Brady  sutton@gmail.com   Scarlet  Sutton Brady\n",
       "1     Kat  Edison     kat@gmail.com   Scarlet    Kat Edison\n",
       "2    Jane   Sloan    jane@gmail.com    Incite    Jane Sloan\n",
       "3   Adena     NaN               NaN       NaN           NaN"
      ]
     },
     "execution_count": 44,
     "metadata": {},
     "output_type": "execute_result"
    }
   ],
   "source": [
    "df.append({'first' : 'Adena'} , ignore_index  = True)\n",
    "#Ignore index helps to add data only to the specific cols"
   ]
  },
  {
   "cell_type": "code",
   "execution_count": 46,
   "id": "starting-sarah",
   "metadata": {},
   "outputs": [],
   "source": [
    "people = {\n",
    "    'first' : ['Richard' , 'Ryan'],\n",
    "     'last' : ['Hunter' , 'Pinstripe'],\n",
    "     'email' : ['RichardHunter@gmail.com' , 'Pinstripe@gmail.com'],\n",
    "     'workplace' : ['Stafford' , 'Pinstripe']\n",
    "}"
   ]
  },
  {
   "cell_type": "code",
   "execution_count": 47,
   "id": "owned-tulsa",
   "metadata": {},
   "outputs": [],
   "source": [
    "df2 = pd.DataFrame(people)"
   ]
  },
  {
   "cell_type": "code",
   "execution_count": 48,
   "id": "willing-generation",
   "metadata": {},
   "outputs": [],
   "source": [
    "df = df.append(df2 , ignore_index = True)"
   ]
  },
  {
   "cell_type": "code",
   "execution_count": 49,
   "id": "hispanic-comparison",
   "metadata": {},
   "outputs": [
    {
     "data": {
      "text/html": [
       "<div>\n",
       "<style scoped>\n",
       "    .dataframe tbody tr th:only-of-type {\n",
       "        vertical-align: middle;\n",
       "    }\n",
       "\n",
       "    .dataframe tbody tr th {\n",
       "        vertical-align: top;\n",
       "    }\n",
       "\n",
       "    .dataframe thead th {\n",
       "        text-align: right;\n",
       "    }\n",
       "</style>\n",
       "<table border=\"1\" class=\"dataframe\">\n",
       "  <thead>\n",
       "    <tr style=\"text-align: right;\">\n",
       "      <th></th>\n",
       "      <th>first</th>\n",
       "      <th>last</th>\n",
       "      <th>email</th>\n",
       "      <th>workplace</th>\n",
       "      <th>Full Name</th>\n",
       "    </tr>\n",
       "  </thead>\n",
       "  <tbody>\n",
       "    <tr>\n",
       "      <th>0</th>\n",
       "      <td>Sutton</td>\n",
       "      <td>Brady</td>\n",
       "      <td>sutton@gmail.com</td>\n",
       "      <td>Scarlet</td>\n",
       "      <td>Sutton Brady</td>\n",
       "    </tr>\n",
       "    <tr>\n",
       "      <th>1</th>\n",
       "      <td>Kat</td>\n",
       "      <td>Edison</td>\n",
       "      <td>kat@gmail.com</td>\n",
       "      <td>Scarlet</td>\n",
       "      <td>Kat Edison</td>\n",
       "    </tr>\n",
       "    <tr>\n",
       "      <th>2</th>\n",
       "      <td>Jane</td>\n",
       "      <td>Sloan</td>\n",
       "      <td>jane@gmail.com</td>\n",
       "      <td>Incite</td>\n",
       "      <td>Jane Sloan</td>\n",
       "    </tr>\n",
       "    <tr>\n",
       "      <th>3</th>\n",
       "      <td>Richard</td>\n",
       "      <td>Hunter</td>\n",
       "      <td>RichardHunter@gmail.com</td>\n",
       "      <td>Stafford</td>\n",
       "      <td>NaN</td>\n",
       "    </tr>\n",
       "    <tr>\n",
       "      <th>4</th>\n",
       "      <td>Ryan</td>\n",
       "      <td>Pinstripe</td>\n",
       "      <td>Pinstripe@gmail.com</td>\n",
       "      <td>Pinstripe</td>\n",
       "      <td>NaN</td>\n",
       "    </tr>\n",
       "  </tbody>\n",
       "</table>\n",
       "</div>"
      ],
      "text/plain": [
       "     first       last                    email  workplace     Full Name\n",
       "0   Sutton      Brady         sutton@gmail.com    Scarlet  Sutton Brady\n",
       "1      Kat     Edison            kat@gmail.com    Scarlet    Kat Edison\n",
       "2     Jane      Sloan           jane@gmail.com     Incite    Jane Sloan\n",
       "3  Richard     Hunter  RichardHunter@gmail.com   Stafford           NaN\n",
       "4     Ryan  Pinstripe      Pinstripe@gmail.com  Pinstripe           NaN"
      ]
     },
     "execution_count": 49,
     "metadata": {},
     "output_type": "execute_result"
    }
   ],
   "source": [
    "df"
   ]
  },
  {
   "cell_type": "code",
   "execution_count": 50,
   "id": "inside-beverage",
   "metadata": {},
   "outputs": [
    {
     "data": {
      "text/html": [
       "<div>\n",
       "<style scoped>\n",
       "    .dataframe tbody tr th:only-of-type {\n",
       "        vertical-align: middle;\n",
       "    }\n",
       "\n",
       "    .dataframe tbody tr th {\n",
       "        vertical-align: top;\n",
       "    }\n",
       "\n",
       "    .dataframe thead th {\n",
       "        text-align: right;\n",
       "    }\n",
       "</style>\n",
       "<table border=\"1\" class=\"dataframe\">\n",
       "  <thead>\n",
       "    <tr style=\"text-align: right;\">\n",
       "      <th></th>\n",
       "      <th>first</th>\n",
       "      <th>last</th>\n",
       "      <th>email</th>\n",
       "      <th>workplace</th>\n",
       "      <th>Full Name</th>\n",
       "    </tr>\n",
       "  </thead>\n",
       "  <tbody>\n",
       "    <tr>\n",
       "      <th>0</th>\n",
       "      <td>Sutton</td>\n",
       "      <td>Brady</td>\n",
       "      <td>sutton@gmail.com</td>\n",
       "      <td>Scarlet</td>\n",
       "      <td>Sutton Brady</td>\n",
       "    </tr>\n",
       "    <tr>\n",
       "      <th>1</th>\n",
       "      <td>Kat</td>\n",
       "      <td>Edison</td>\n",
       "      <td>kat@gmail.com</td>\n",
       "      <td>Scarlet</td>\n",
       "      <td>Kat Edison</td>\n",
       "    </tr>\n",
       "    <tr>\n",
       "      <th>2</th>\n",
       "      <td>Jane</td>\n",
       "      <td>Sloan</td>\n",
       "      <td>jane@gmail.com</td>\n",
       "      <td>Incite</td>\n",
       "      <td>Jane Sloan</td>\n",
       "    </tr>\n",
       "    <tr>\n",
       "      <th>3</th>\n",
       "      <td>Richard</td>\n",
       "      <td>Hunter</td>\n",
       "      <td>RichardHunter@gmail.com</td>\n",
       "      <td>Stafford</td>\n",
       "      <td>NaN</td>\n",
       "    </tr>\n",
       "  </tbody>\n",
       "</table>\n",
       "</div>"
      ],
      "text/plain": [
       "     first    last                    email workplace     Full Name\n",
       "0   Sutton   Brady         sutton@gmail.com   Scarlet  Sutton Brady\n",
       "1      Kat  Edison            kat@gmail.com   Scarlet    Kat Edison\n",
       "2     Jane   Sloan           jane@gmail.com    Incite    Jane Sloan\n",
       "3  Richard  Hunter  RichardHunter@gmail.com  Stafford           NaN"
      ]
     },
     "execution_count": 50,
     "metadata": {},
     "output_type": "execute_result"
    }
   ],
   "source": [
    "df.drop(index = 4)"
   ]
  },
  {
   "cell_type": "markdown",
   "id": "accredited-mouth",
   "metadata": {},
   "source": [
    "### Dropping rows based on a condition"
   ]
  },
  {
   "cell_type": "code",
   "execution_count": 56,
   "id": "stupid-packaging",
   "metadata": {},
   "outputs": [
    {
     "data": {
      "text/html": [
       "<div>\n",
       "<style scoped>\n",
       "    .dataframe tbody tr th:only-of-type {\n",
       "        vertical-align: middle;\n",
       "    }\n",
       "\n",
       "    .dataframe tbody tr th {\n",
       "        vertical-align: top;\n",
       "    }\n",
       "\n",
       "    .dataframe thead th {\n",
       "        text-align: right;\n",
       "    }\n",
       "</style>\n",
       "<table border=\"1\" class=\"dataframe\">\n",
       "  <thead>\n",
       "    <tr style=\"text-align: right;\">\n",
       "      <th></th>\n",
       "      <th>first</th>\n",
       "      <th>last</th>\n",
       "      <th>email</th>\n",
       "      <th>workplace</th>\n",
       "      <th>Full Name</th>\n",
       "    </tr>\n",
       "  </thead>\n",
       "  <tbody>\n",
       "    <tr>\n",
       "      <th>0</th>\n",
       "      <td>Sutton</td>\n",
       "      <td>Brady</td>\n",
       "      <td>sutton@gmail.com</td>\n",
       "      <td>Scarlet</td>\n",
       "      <td>Sutton Brady</td>\n",
       "    </tr>\n",
       "    <tr>\n",
       "      <th>1</th>\n",
       "      <td>Kat</td>\n",
       "      <td>Edison</td>\n",
       "      <td>kat@gmail.com</td>\n",
       "      <td>Scarlet</td>\n",
       "      <td>Kat Edison</td>\n",
       "    </tr>\n",
       "    <tr>\n",
       "      <th>2</th>\n",
       "      <td>Jane</td>\n",
       "      <td>Sloan</td>\n",
       "      <td>jane@gmail.com</td>\n",
       "      <td>Incite</td>\n",
       "      <td>Jane Sloan</td>\n",
       "    </tr>\n",
       "  </tbody>\n",
       "</table>\n",
       "</div>"
      ],
      "text/plain": [
       "    first    last             email workplace     Full Name\n",
       "0  Sutton   Brady  sutton@gmail.com   Scarlet  Sutton Brady\n",
       "1     Kat  Edison     kat@gmail.com   Scarlet    Kat Edison\n",
       "2    Jane   Sloan    jane@gmail.com    Incite    Jane Sloan"
      ]
     },
     "execution_count": 56,
     "metadata": {},
     "output_type": "execute_result"
    }
   ],
   "source": [
    "filt = (df['workplace'] == 'Scarlet') | (df['workplace'] == 'Incite')\n",
    "df.drop(index = df[~filt].index)"
   ]
  },
  {
   "cell_type": "code",
   "execution_count": null,
   "id": "judicial-sussex",
   "metadata": {},
   "outputs": [],
   "source": []
  }
 ],
 "metadata": {
  "kernelspec": {
   "display_name": "Python 3",
   "language": "python",
   "name": "python3"
  },
  "language_info": {
   "codemirror_mode": {
    "name": "ipython",
    "version": 3
   },
   "file_extension": ".py",
   "mimetype": "text/x-python",
   "name": "python",
   "nbconvert_exporter": "python",
   "pygments_lexer": "ipython3",
   "version": "3.8.0"
  }
 },
 "nbformat": 4,
 "nbformat_minor": 5
}
