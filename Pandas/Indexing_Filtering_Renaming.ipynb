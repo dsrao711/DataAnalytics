{
 "cells": [
  {
   "cell_type": "markdown",
   "id": "quantitative-arkansas",
   "metadata": {},
   "source": [
    "## Indexes\n"
   ]
  },
  {
   "cell_type": "code",
   "execution_count": 91,
   "id": "thousand-penguin",
   "metadata": {},
   "outputs": [],
   "source": [
    "import pandas as pd"
   ]
  },
  {
   "cell_type": "code",
   "execution_count": 92,
   "id": "national-bruce",
   "metadata": {},
   "outputs": [],
   "source": [
    "people = {\n",
    "    \"first\" : [\"Sutton\" , \"Kat\" , \"Jane\"] ,\n",
    "     \"last\" : [\"Brady\" , \"Edison\" , \"Sloan\"] ,\n",
    "     \"email\" : [\"sutton@gmail.com\" , \"kat@gmail.com\" , \"jane@gmail.com\"],\n",
    "     \"workplace\" : [\"Scarlet\" , \"Scarlet\" , \"Incite\"]\n",
    "}"
   ]
  },
  {
   "cell_type": "code",
   "execution_count": 93,
   "id": "elect-responsibility",
   "metadata": {},
   "outputs": [],
   "source": [
    "df = pd.DataFrame(people)\n"
   ]
  },
  {
   "cell_type": "code",
   "execution_count": 94,
   "id": "robust-swedish",
   "metadata": {},
   "outputs": [
    {
     "data": {
      "text/plain": [
       "Index(['first', 'last', 'email', 'workplace'], dtype='object')"
      ]
     },
     "execution_count": 94,
     "metadata": {},
     "output_type": "execute_result"
    }
   ],
   "source": [
    "df.columns"
   ]
  },
  {
   "cell_type": "code",
   "execution_count": 95,
   "id": "higher-bathroom",
   "metadata": {},
   "outputs": [
    {
     "data": {
      "text/plain": [
       "RangeIndex(start=0, stop=3, step=1)"
      ]
     },
     "execution_count": 95,
     "metadata": {},
     "output_type": "execute_result"
    }
   ],
   "source": [
    "df.index"
   ]
  },
  {
   "cell_type": "markdown",
   "id": "australian-humidity",
   "metadata": {},
   "source": [
    "## iloc"
   ]
  },
  {
   "cell_type": "code",
   "execution_count": 96,
   "id": "extended-plant",
   "metadata": {},
   "outputs": [
    {
     "data": {
      "text/plain": [
       "0     Brady\n",
       "1    Edison\n",
       "Name: last, dtype: object"
      ]
     },
     "execution_count": 96,
     "metadata": {},
     "output_type": "execute_result"
    }
   ],
   "source": [
    "df.iloc[[0 , 1] , 1]\n",
    "#Iloc gives rows\n",
    "#[0,1] = rows\n",
    "# 1 => columns"
   ]
  },
  {
   "cell_type": "markdown",
   "id": "downtown-tablet",
   "metadata": {},
   "source": [
    "## Loc"
   ]
  },
  {
   "cell_type": "code",
   "execution_count": 97,
   "id": "pediatric-foundation",
   "metadata": {
    "scrolled": true
   },
   "outputs": [
    {
     "data": {
      "text/plain": [
       "'sutton@gmail.com'"
      ]
     },
     "execution_count": 97,
     "metadata": {},
     "output_type": "execute_result"
    }
   ],
   "source": [
    "df.loc[0 , 'email']"
   ]
  },
  {
   "cell_type": "code",
   "execution_count": 98,
   "id": "banner-twelve",
   "metadata": {},
   "outputs": [
    {
     "data": {
      "text/html": [
       "<div>\n",
       "<style scoped>\n",
       "    .dataframe tbody tr th:only-of-type {\n",
       "        vertical-align: middle;\n",
       "    }\n",
       "\n",
       "    .dataframe tbody tr th {\n",
       "        vertical-align: top;\n",
       "    }\n",
       "\n",
       "    .dataframe thead th {\n",
       "        text-align: right;\n",
       "    }\n",
       "</style>\n",
       "<table border=\"1\" class=\"dataframe\">\n",
       "  <thead>\n",
       "    <tr style=\"text-align: right;\">\n",
       "      <th></th>\n",
       "      <th>first</th>\n",
       "      <th>last</th>\n",
       "      <th>email</th>\n",
       "    </tr>\n",
       "  </thead>\n",
       "  <tbody>\n",
       "    <tr>\n",
       "      <th>0</th>\n",
       "      <td>Sutton</td>\n",
       "      <td>Brady</td>\n",
       "      <td>sutton@gmail.com</td>\n",
       "    </tr>\n",
       "    <tr>\n",
       "      <th>1</th>\n",
       "      <td>Kat</td>\n",
       "      <td>Edison</td>\n",
       "      <td>kat@gmail.com</td>\n",
       "    </tr>\n",
       "  </tbody>\n",
       "</table>\n",
       "</div>"
      ],
      "text/plain": [
       "    first    last             email\n",
       "0  Sutton   Brady  sutton@gmail.com\n",
       "1     Kat  Edison     kat@gmail.com"
      ]
     },
     "execution_count": 98,
     "metadata": {},
     "output_type": "execute_result"
    }
   ],
   "source": [
    "df.loc[[0,1] , 'first':'email']"
   ]
  },
  {
   "cell_type": "markdown",
   "id": "designed-candle",
   "metadata": {},
   "source": [
    "## Indexing\n"
   ]
  },
  {
   "cell_type": "code",
   "execution_count": 99,
   "id": "sorted-brazil",
   "metadata": {},
   "outputs": [
    {
     "data": {
      "text/html": [
       "<div>\n",
       "<style scoped>\n",
       "    .dataframe tbody tr th:only-of-type {\n",
       "        vertical-align: middle;\n",
       "    }\n",
       "\n",
       "    .dataframe tbody tr th {\n",
       "        vertical-align: top;\n",
       "    }\n",
       "\n",
       "    .dataframe thead th {\n",
       "        text-align: right;\n",
       "    }\n",
       "</style>\n",
       "<table border=\"1\" class=\"dataframe\">\n",
       "  <thead>\n",
       "    <tr style=\"text-align: right;\">\n",
       "      <th></th>\n",
       "      <th>first</th>\n",
       "      <th>last</th>\n",
       "      <th>workplace</th>\n",
       "    </tr>\n",
       "    <tr>\n",
       "      <th>email</th>\n",
       "      <th></th>\n",
       "      <th></th>\n",
       "      <th></th>\n",
       "    </tr>\n",
       "  </thead>\n",
       "  <tbody>\n",
       "    <tr>\n",
       "      <th>sutton@gmail.com</th>\n",
       "      <td>Sutton</td>\n",
       "      <td>Brady</td>\n",
       "      <td>Scarlet</td>\n",
       "    </tr>\n",
       "    <tr>\n",
       "      <th>kat@gmail.com</th>\n",
       "      <td>Kat</td>\n",
       "      <td>Edison</td>\n",
       "      <td>Scarlet</td>\n",
       "    </tr>\n",
       "    <tr>\n",
       "      <th>jane@gmail.com</th>\n",
       "      <td>Jane</td>\n",
       "      <td>Sloan</td>\n",
       "      <td>Incite</td>\n",
       "    </tr>\n",
       "  </tbody>\n",
       "</table>\n",
       "</div>"
      ],
      "text/plain": [
       "                   first    last workplace\n",
       "email                                     \n",
       "sutton@gmail.com  Sutton   Brady   Scarlet\n",
       "kat@gmail.com        Kat  Edison   Scarlet\n",
       "jane@gmail.com      Jane   Sloan    Incite"
      ]
     },
     "execution_count": 99,
     "metadata": {},
     "output_type": "execute_result"
    }
   ],
   "source": [
    "df.set_index('email')\n",
    "#Doesnt change in original dataframe"
   ]
  },
  {
   "cell_type": "code",
   "execution_count": 100,
   "id": "amazing-launch",
   "metadata": {},
   "outputs": [
    {
     "data": {
      "text/html": [
       "<div>\n",
       "<style scoped>\n",
       "    .dataframe tbody tr th:only-of-type {\n",
       "        vertical-align: middle;\n",
       "    }\n",
       "\n",
       "    .dataframe tbody tr th {\n",
       "        vertical-align: top;\n",
       "    }\n",
       "\n",
       "    .dataframe thead th {\n",
       "        text-align: right;\n",
       "    }\n",
       "</style>\n",
       "<table border=\"1\" class=\"dataframe\">\n",
       "  <thead>\n",
       "    <tr style=\"text-align: right;\">\n",
       "      <th></th>\n",
       "      <th>first</th>\n",
       "      <th>last</th>\n",
       "      <th>email</th>\n",
       "      <th>workplace</th>\n",
       "    </tr>\n",
       "  </thead>\n",
       "  <tbody>\n",
       "    <tr>\n",
       "      <th>0</th>\n",
       "      <td>Sutton</td>\n",
       "      <td>Brady</td>\n",
       "      <td>sutton@gmail.com</td>\n",
       "      <td>Scarlet</td>\n",
       "    </tr>\n",
       "    <tr>\n",
       "      <th>1</th>\n",
       "      <td>Kat</td>\n",
       "      <td>Edison</td>\n",
       "      <td>kat@gmail.com</td>\n",
       "      <td>Scarlet</td>\n",
       "    </tr>\n",
       "    <tr>\n",
       "      <th>2</th>\n",
       "      <td>Jane</td>\n",
       "      <td>Sloan</td>\n",
       "      <td>jane@gmail.com</td>\n",
       "      <td>Incite</td>\n",
       "    </tr>\n",
       "  </tbody>\n",
       "</table>\n",
       "</div>"
      ],
      "text/plain": [
       "    first    last             email workplace\n",
       "0  Sutton   Brady  sutton@gmail.com   Scarlet\n",
       "1     Kat  Edison     kat@gmail.com   Scarlet\n",
       "2    Jane   Sloan    jane@gmail.com    Incite"
      ]
     },
     "execution_count": 100,
     "metadata": {},
     "output_type": "execute_result"
    }
   ],
   "source": [
    "df"
   ]
  },
  {
   "cell_type": "markdown",
   "id": "attractive-vietnamese",
   "metadata": {},
   "source": [
    "## Set index"
   ]
  },
  {
   "cell_type": "code",
   "execution_count": 101,
   "id": "rapid-honduras",
   "metadata": {},
   "outputs": [],
   "source": [
    "df.set_index('email' , inplace = True)\n"
   ]
  },
  {
   "cell_type": "code",
   "execution_count": 102,
   "id": "indonesian-meditation",
   "metadata": {},
   "outputs": [
    {
     "data": {
      "text/html": [
       "<div>\n",
       "<style scoped>\n",
       "    .dataframe tbody tr th:only-of-type {\n",
       "        vertical-align: middle;\n",
       "    }\n",
       "\n",
       "    .dataframe tbody tr th {\n",
       "        vertical-align: top;\n",
       "    }\n",
       "\n",
       "    .dataframe thead th {\n",
       "        text-align: right;\n",
       "    }\n",
       "</style>\n",
       "<table border=\"1\" class=\"dataframe\">\n",
       "  <thead>\n",
       "    <tr style=\"text-align: right;\">\n",
       "      <th></th>\n",
       "      <th>first</th>\n",
       "      <th>last</th>\n",
       "      <th>workplace</th>\n",
       "    </tr>\n",
       "    <tr>\n",
       "      <th>email</th>\n",
       "      <th></th>\n",
       "      <th></th>\n",
       "      <th></th>\n",
       "    </tr>\n",
       "  </thead>\n",
       "  <tbody>\n",
       "    <tr>\n",
       "      <th>sutton@gmail.com</th>\n",
       "      <td>Sutton</td>\n",
       "      <td>Brady</td>\n",
       "      <td>Scarlet</td>\n",
       "    </tr>\n",
       "    <tr>\n",
       "      <th>kat@gmail.com</th>\n",
       "      <td>Kat</td>\n",
       "      <td>Edison</td>\n",
       "      <td>Scarlet</td>\n",
       "    </tr>\n",
       "    <tr>\n",
       "      <th>jane@gmail.com</th>\n",
       "      <td>Jane</td>\n",
       "      <td>Sloan</td>\n",
       "      <td>Incite</td>\n",
       "    </tr>\n",
       "  </tbody>\n",
       "</table>\n",
       "</div>"
      ],
      "text/plain": [
       "                   first    last workplace\n",
       "email                                     \n",
       "sutton@gmail.com  Sutton   Brady   Scarlet\n",
       "kat@gmail.com        Kat  Edison   Scarlet\n",
       "jane@gmail.com      Jane   Sloan    Incite"
      ]
     },
     "execution_count": 102,
     "metadata": {},
     "output_type": "execute_result"
    }
   ],
   "source": [
    "df"
   ]
  },
  {
   "cell_type": "markdown",
   "id": "mobile-albany",
   "metadata": {},
   "source": [
    "Changes reflected in Iloc and Loc"
   ]
  },
  {
   "cell_type": "code",
   "execution_count": 103,
   "id": "balanced-alias",
   "metadata": {},
   "outputs": [
    {
     "data": {
      "text/plain": [
       "email\n",
       "sutton@gmail.com    Sutton\n",
       "kat@gmail.com          Kat\n",
       "Name: first, dtype: object"
      ]
     },
     "execution_count": 103,
     "metadata": {},
     "output_type": "execute_result"
    }
   ],
   "source": [
    "df.iloc[[0 , 1] , 0]"
   ]
  },
  {
   "cell_type": "code",
   "execution_count": 104,
   "id": "subsequent-wilderness",
   "metadata": {},
   "outputs": [
    {
     "data": {
      "text/plain": [
       "first            Kat\n",
       "last          Edison\n",
       "workplace    Scarlet\n",
       "Name: kat@gmail.com, dtype: object"
      ]
     },
     "execution_count": 104,
     "metadata": {},
     "output_type": "execute_result"
    }
   ],
   "source": [
    "df.loc['kat@gmail.com']"
   ]
  },
  {
   "cell_type": "code",
   "execution_count": 105,
   "id": "elementary-richmond",
   "metadata": {},
   "outputs": [],
   "source": [
    "#df.loc[0]\n",
    "# Wont work because column changed to \"email\""
   ]
  },
  {
   "cell_type": "code",
   "execution_count": 106,
   "id": "italic-commerce",
   "metadata": {},
   "outputs": [
    {
     "data": {
      "text/html": [
       "<div>\n",
       "<style scoped>\n",
       "    .dataframe tbody tr th:only-of-type {\n",
       "        vertical-align: middle;\n",
       "    }\n",
       "\n",
       "    .dataframe tbody tr th {\n",
       "        vertical-align: top;\n",
       "    }\n",
       "\n",
       "    .dataframe thead th {\n",
       "        text-align: right;\n",
       "    }\n",
       "</style>\n",
       "<table border=\"1\" class=\"dataframe\">\n",
       "  <thead>\n",
       "    <tr style=\"text-align: right;\">\n",
       "      <th></th>\n",
       "      <th>email</th>\n",
       "      <th>first</th>\n",
       "      <th>last</th>\n",
       "      <th>workplace</th>\n",
       "    </tr>\n",
       "  </thead>\n",
       "  <tbody>\n",
       "    <tr>\n",
       "      <th>0</th>\n",
       "      <td>sutton@gmail.com</td>\n",
       "      <td>Sutton</td>\n",
       "      <td>Brady</td>\n",
       "      <td>Scarlet</td>\n",
       "    </tr>\n",
       "    <tr>\n",
       "      <th>1</th>\n",
       "      <td>kat@gmail.com</td>\n",
       "      <td>Kat</td>\n",
       "      <td>Edison</td>\n",
       "      <td>Scarlet</td>\n",
       "    </tr>\n",
       "    <tr>\n",
       "      <th>2</th>\n",
       "      <td>jane@gmail.com</td>\n",
       "      <td>Jane</td>\n",
       "      <td>Sloan</td>\n",
       "      <td>Incite</td>\n",
       "    </tr>\n",
       "  </tbody>\n",
       "</table>\n",
       "</div>"
      ],
      "text/plain": [
       "              email   first    last workplace\n",
       "0  sutton@gmail.com  Sutton   Brady   Scarlet\n",
       "1     kat@gmail.com     Kat  Edison   Scarlet\n",
       "2    jane@gmail.com    Jane   Sloan    Incite"
      ]
     },
     "execution_count": 106,
     "metadata": {},
     "output_type": "execute_result"
    }
   ],
   "source": [
    "df.reset_index()"
   ]
  },
  {
   "cell_type": "code",
   "execution_count": 107,
   "id": "young-challenge",
   "metadata": {},
   "outputs": [],
   "source": [
    "df = df.reset_index()"
   ]
  },
  {
   "cell_type": "code",
   "execution_count": 108,
   "id": "entitled-chapel",
   "metadata": {},
   "outputs": [
    {
     "data": {
      "text/html": [
       "<div>\n",
       "<style scoped>\n",
       "    .dataframe tbody tr th:only-of-type {\n",
       "        vertical-align: middle;\n",
       "    }\n",
       "\n",
       "    .dataframe tbody tr th {\n",
       "        vertical-align: top;\n",
       "    }\n",
       "\n",
       "    .dataframe thead th {\n",
       "        text-align: right;\n",
       "    }\n",
       "</style>\n",
       "<table border=\"1\" class=\"dataframe\">\n",
       "  <thead>\n",
       "    <tr style=\"text-align: right;\">\n",
       "      <th></th>\n",
       "      <th>email</th>\n",
       "      <th>first</th>\n",
       "      <th>last</th>\n",
       "      <th>workplace</th>\n",
       "    </tr>\n",
       "  </thead>\n",
       "  <tbody>\n",
       "    <tr>\n",
       "      <th>0</th>\n",
       "      <td>sutton@gmail.com</td>\n",
       "      <td>Sutton</td>\n",
       "      <td>Brady</td>\n",
       "      <td>Scarlet</td>\n",
       "    </tr>\n",
       "    <tr>\n",
       "      <th>1</th>\n",
       "      <td>kat@gmail.com</td>\n",
       "      <td>Kat</td>\n",
       "      <td>Edison</td>\n",
       "      <td>Scarlet</td>\n",
       "    </tr>\n",
       "    <tr>\n",
       "      <th>2</th>\n",
       "      <td>jane@gmail.com</td>\n",
       "      <td>Jane</td>\n",
       "      <td>Sloan</td>\n",
       "      <td>Incite</td>\n",
       "    </tr>\n",
       "  </tbody>\n",
       "</table>\n",
       "</div>"
      ],
      "text/plain": [
       "              email   first    last workplace\n",
       "0  sutton@gmail.com  Sutton   Brady   Scarlet\n",
       "1     kat@gmail.com     Kat  Edison   Scarlet\n",
       "2    jane@gmail.com    Jane   Sloan    Incite"
      ]
     },
     "execution_count": 108,
     "metadata": {},
     "output_type": "execute_result"
    }
   ],
   "source": [
    "df"
   ]
  },
  {
   "cell_type": "markdown",
   "id": "stuck-brake",
   "metadata": {},
   "source": [
    "## Filter"
   ]
  },
  {
   "cell_type": "code",
   "execution_count": 109,
   "id": "consecutive-brooklyn",
   "metadata": {},
   "outputs": [],
   "source": [
    "filt = df['workplace'] == 'Scarlet'"
   ]
  },
  {
   "cell_type": "code",
   "execution_count": 110,
   "id": "roman-exploration",
   "metadata": {},
   "outputs": [
    {
     "data": {
      "text/plain": [
       "0    Sutton\n",
       "1       Kat\n",
       "Name: first, dtype: object"
      ]
     },
     "execution_count": 110,
     "metadata": {},
     "output_type": "execute_result"
    }
   ],
   "source": [
    "df.loc[filt , 'first']"
   ]
  },
  {
   "cell_type": "markdown",
   "id": "lightweight-trailer",
   "metadata": {},
   "source": [
    "### Filter with conditions"
   ]
  },
  {
   "cell_type": "code",
   "execution_count": 111,
   "id": "apart-canal",
   "metadata": {},
   "outputs": [],
   "source": [
    "#OR\n",
    "filt_workspace = (df['workplace'] == 'Scarlet') | (df['first'] == 'Kat') "
   ]
  },
  {
   "cell_type": "code",
   "execution_count": 112,
   "id": "forbidden-style",
   "metadata": {},
   "outputs": [
    {
     "data": {
      "text/plain": [
       "0    sutton@gmail.com\n",
       "1       kat@gmail.com\n",
       "Name: email, dtype: object"
      ]
     },
     "execution_count": 112,
     "metadata": {},
     "output_type": "execute_result"
    }
   ],
   "source": [
    "df.loc[filt_workspace, 'email']"
   ]
  },
  {
   "cell_type": "code",
   "execution_count": 113,
   "id": "acquired-vulnerability",
   "metadata": {},
   "outputs": [
    {
     "data": {
      "text/plain": [
       "2    jane@gmail.com\n",
       "Name: email, dtype: object"
      ]
     },
     "execution_count": 113,
     "metadata": {},
     "output_type": "execute_result"
    }
   ],
   "source": [
    "#Negation\n",
    "df.loc[~filt_workspace , 'email']"
   ]
  },
  {
   "cell_type": "code",
   "execution_count": 114,
   "id": "level-lawrence",
   "metadata": {},
   "outputs": [
    {
     "data": {
      "text/plain": [
       "1    Kat\n",
       "Name: first, dtype: object"
      ]
     },
     "execution_count": 114,
     "metadata": {},
     "output_type": "execute_result"
    }
   ],
   "source": [
    "#AND \n",
    "filt_and_op = (df['workplace'] == 'Scarlet') & (df['first'] == 'Kat') \n",
    "df.loc[filt_and_op , 'first']\n"
   ]
  },
  {
   "cell_type": "markdown",
   "id": "peripheral-claim",
   "metadata": {},
   "source": [
    "## Rename\n"
   ]
  },
  {
   "cell_type": "code",
   "execution_count": 115,
   "id": "peaceful-cathedral",
   "metadata": {},
   "outputs": [],
   "source": [
    "df.loc[1 , 'email'] = ['kat1233@gmail.com']"
   ]
  },
  {
   "cell_type": "code",
   "execution_count": 116,
   "id": "considered-appointment",
   "metadata": {},
   "outputs": [],
   "source": [
    "df.loc[2] = ['JaneSloan@gmail.com' , 'jane' , 'sloan' , 'Freelancer']"
   ]
  },
  {
   "cell_type": "code",
   "execution_count": 117,
   "id": "analyzed-storage",
   "metadata": {},
   "outputs": [
    {
     "data": {
      "text/html": [
       "<div>\n",
       "<style scoped>\n",
       "    .dataframe tbody tr th:only-of-type {\n",
       "        vertical-align: middle;\n",
       "    }\n",
       "\n",
       "    .dataframe tbody tr th {\n",
       "        vertical-align: top;\n",
       "    }\n",
       "\n",
       "    .dataframe thead th {\n",
       "        text-align: right;\n",
       "    }\n",
       "</style>\n",
       "<table border=\"1\" class=\"dataframe\">\n",
       "  <thead>\n",
       "    <tr style=\"text-align: right;\">\n",
       "      <th></th>\n",
       "      <th>email</th>\n",
       "      <th>first</th>\n",
       "      <th>last</th>\n",
       "      <th>workplace</th>\n",
       "    </tr>\n",
       "  </thead>\n",
       "  <tbody>\n",
       "    <tr>\n",
       "      <th>0</th>\n",
       "      <td>sutton@gmail.com</td>\n",
       "      <td>Sutton</td>\n",
       "      <td>Brady</td>\n",
       "      <td>Scarlet</td>\n",
       "    </tr>\n",
       "    <tr>\n",
       "      <th>1</th>\n",
       "      <td>kat1233@gmail.com</td>\n",
       "      <td>Kat</td>\n",
       "      <td>Edison</td>\n",
       "      <td>Scarlet</td>\n",
       "    </tr>\n",
       "    <tr>\n",
       "      <th>2</th>\n",
       "      <td>JaneSloan@gmail.com</td>\n",
       "      <td>jane</td>\n",
       "      <td>sloan</td>\n",
       "      <td>Freelancer</td>\n",
       "    </tr>\n",
       "  </tbody>\n",
       "</table>\n",
       "</div>"
      ],
      "text/plain": [
       "                 email   first    last   workplace\n",
       "0     sutton@gmail.com  Sutton   Brady     Scarlet\n",
       "1    kat1233@gmail.com     Kat  Edison     Scarlet\n",
       "2  JaneSloan@gmail.com    jane   sloan  Freelancer"
      ]
     },
     "execution_count": 117,
     "metadata": {},
     "output_type": "execute_result"
    }
   ],
   "source": [
    "df"
   ]
  },
  {
   "cell_type": "code",
   "execution_count": 118,
   "id": "beneficial-potato",
   "metadata": {},
   "outputs": [],
   "source": [
    "##UpperCase"
   ]
  },
  {
   "cell_type": "code",
   "execution_count": 119,
   "id": "genetic-consolidation",
   "metadata": {},
   "outputs": [],
   "source": [
    "df['first'] = df['first'].str.upper() "
   ]
  },
  {
   "cell_type": "code",
   "execution_count": 120,
   "id": "thorough-coverage",
   "metadata": {},
   "outputs": [
    {
     "data": {
      "text/html": [
       "<div>\n",
       "<style scoped>\n",
       "    .dataframe tbody tr th:only-of-type {\n",
       "        vertical-align: middle;\n",
       "    }\n",
       "\n",
       "    .dataframe tbody tr th {\n",
       "        vertical-align: top;\n",
       "    }\n",
       "\n",
       "    .dataframe thead th {\n",
       "        text-align: right;\n",
       "    }\n",
       "</style>\n",
       "<table border=\"1\" class=\"dataframe\">\n",
       "  <thead>\n",
       "    <tr style=\"text-align: right;\">\n",
       "      <th></th>\n",
       "      <th>email</th>\n",
       "      <th>first</th>\n",
       "      <th>last</th>\n",
       "      <th>workplace</th>\n",
       "    </tr>\n",
       "  </thead>\n",
       "  <tbody>\n",
       "    <tr>\n",
       "      <th>0</th>\n",
       "      <td>sutton@gmail.com</td>\n",
       "      <td>SUTTON</td>\n",
       "      <td>Brady</td>\n",
       "      <td>Scarlet</td>\n",
       "    </tr>\n",
       "    <tr>\n",
       "      <th>1</th>\n",
       "      <td>kat1233@gmail.com</td>\n",
       "      <td>KAT</td>\n",
       "      <td>Edison</td>\n",
       "      <td>Scarlet</td>\n",
       "    </tr>\n",
       "    <tr>\n",
       "      <th>2</th>\n",
       "      <td>JaneSloan@gmail.com</td>\n",
       "      <td>JANE</td>\n",
       "      <td>sloan</td>\n",
       "      <td>Freelancer</td>\n",
       "    </tr>\n",
       "  </tbody>\n",
       "</table>\n",
       "</div>"
      ],
      "text/plain": [
       "                 email   first    last   workplace\n",
       "0     sutton@gmail.com  SUTTON   Brady     Scarlet\n",
       "1    kat1233@gmail.com     KAT  Edison     Scarlet\n",
       "2  JaneSloan@gmail.com    JANE   sloan  Freelancer"
      ]
     },
     "execution_count": 120,
     "metadata": {},
     "output_type": "execute_result"
    }
   ],
   "source": [
    "df"
   ]
  },
  {
   "cell_type": "markdown",
   "id": "organizational-attack",
   "metadata": {},
   "source": [
    "Apply on Series"
   ]
  },
  {
   "cell_type": "code",
   "execution_count": 121,
   "id": "synthetic-alias",
   "metadata": {},
   "outputs": [],
   "source": [
    "def updateEmail(email):\n",
    "    return email.upper()\n"
   ]
  },
  {
   "cell_type": "code",
   "execution_count": 122,
   "id": "falling-cannon",
   "metadata": {},
   "outputs": [
    {
     "data": {
      "text/html": [
       "<div>\n",
       "<style scoped>\n",
       "    .dataframe tbody tr th:only-of-type {\n",
       "        vertical-align: middle;\n",
       "    }\n",
       "\n",
       "    .dataframe tbody tr th {\n",
       "        vertical-align: top;\n",
       "    }\n",
       "\n",
       "    .dataframe thead th {\n",
       "        text-align: right;\n",
       "    }\n",
       "</style>\n",
       "<table border=\"1\" class=\"dataframe\">\n",
       "  <thead>\n",
       "    <tr style=\"text-align: right;\">\n",
       "      <th></th>\n",
       "      <th>email</th>\n",
       "      <th>first</th>\n",
       "      <th>last</th>\n",
       "      <th>workplace</th>\n",
       "    </tr>\n",
       "  </thead>\n",
       "  <tbody>\n",
       "    <tr>\n",
       "      <th>0</th>\n",
       "      <td>SUTTON@GMAIL.COM</td>\n",
       "      <td>SUTTON</td>\n",
       "      <td>Brady</td>\n",
       "      <td>Scarlet</td>\n",
       "    </tr>\n",
       "    <tr>\n",
       "      <th>1</th>\n",
       "      <td>KAT1233@GMAIL.COM</td>\n",
       "      <td>KAT</td>\n",
       "      <td>Edison</td>\n",
       "      <td>Scarlet</td>\n",
       "    </tr>\n",
       "    <tr>\n",
       "      <th>2</th>\n",
       "      <td>JANESLOAN@GMAIL.COM</td>\n",
       "      <td>JANE</td>\n",
       "      <td>sloan</td>\n",
       "      <td>Freelancer</td>\n",
       "    </tr>\n",
       "  </tbody>\n",
       "</table>\n",
       "</div>"
      ],
      "text/plain": [
       "                 email   first    last   workplace\n",
       "0     SUTTON@GMAIL.COM  SUTTON   Brady     Scarlet\n",
       "1    KAT1233@GMAIL.COM     KAT  Edison     Scarlet\n",
       "2  JANESLOAN@GMAIL.COM    JANE   sloan  Freelancer"
      ]
     },
     "execution_count": 122,
     "metadata": {},
     "output_type": "execute_result"
    }
   ],
   "source": [
    "df['email'] = df['email'].apply(updateEmail)\n",
    "df"
   ]
  },
  {
   "cell_type": "code",
   "execution_count": 123,
   "id": "theoretical-richmond",
   "metadata": {},
   "outputs": [
    {
     "data": {
      "text/html": [
       "<div>\n",
       "<style scoped>\n",
       "    .dataframe tbody tr th:only-of-type {\n",
       "        vertical-align: middle;\n",
       "    }\n",
       "\n",
       "    .dataframe tbody tr th {\n",
       "        vertical-align: top;\n",
       "    }\n",
       "\n",
       "    .dataframe thead th {\n",
       "        text-align: right;\n",
       "    }\n",
       "</style>\n",
       "<table border=\"1\" class=\"dataframe\">\n",
       "  <thead>\n",
       "    <tr style=\"text-align: right;\">\n",
       "      <th></th>\n",
       "      <th>email</th>\n",
       "      <th>first</th>\n",
       "      <th>last</th>\n",
       "      <th>workplace</th>\n",
       "    </tr>\n",
       "  </thead>\n",
       "  <tbody>\n",
       "    <tr>\n",
       "      <th>0</th>\n",
       "      <td>sutton@gmail.com</td>\n",
       "      <td>SUTTON</td>\n",
       "      <td>Brady</td>\n",
       "      <td>Scarlet</td>\n",
       "    </tr>\n",
       "    <tr>\n",
       "      <th>1</th>\n",
       "      <td>kat1233@gmail.com</td>\n",
       "      <td>KAT</td>\n",
       "      <td>Edison</td>\n",
       "      <td>Scarlet</td>\n",
       "    </tr>\n",
       "    <tr>\n",
       "      <th>2</th>\n",
       "      <td>janesloan@gmail.com</td>\n",
       "      <td>JANE</td>\n",
       "      <td>sloan</td>\n",
       "      <td>Freelancer</td>\n",
       "    </tr>\n",
       "  </tbody>\n",
       "</table>\n",
       "</div>"
      ],
      "text/plain": [
       "                 email   first    last   workplace\n",
       "0     sutton@gmail.com  SUTTON   Brady     Scarlet\n",
       "1    kat1233@gmail.com     KAT  Edison     Scarlet\n",
       "2  janesloan@gmail.com    JANE   sloan  Freelancer"
      ]
     },
     "execution_count": 123,
     "metadata": {},
     "output_type": "execute_result"
    }
   ],
   "source": [
    "#Using lambda function\n",
    "df['email'] = df['email'].apply(lambda x : x.lower())\n",
    "df"
   ]
  },
  {
   "cell_type": "markdown",
   "id": "raising-cutting",
   "metadata": {},
   "source": [
    "Apply on DataFrames"
   ]
  },
  {
   "cell_type": "code",
   "execution_count": 124,
   "id": "negative-comedy",
   "metadata": {},
   "outputs": [
    {
     "data": {
      "text/plain": [
       "0    16\n",
       "1    17\n",
       "2    19\n",
       "Name: email, dtype: int64"
      ]
     },
     "execution_count": 124,
     "metadata": {},
     "output_type": "execute_result"
    }
   ],
   "source": [
    "df['email'].apply(len) \n",
    "#By default gets applied for rows"
   ]
  },
  {
   "cell_type": "code",
   "execution_count": 125,
   "id": "oriental-variance",
   "metadata": {},
   "outputs": [
    {
     "data": {
      "text/plain": [
       "0    4\n",
       "1    4\n",
       "2    4\n",
       "dtype: int64"
      ]
     },
     "execution_count": 125,
     "metadata": {},
     "output_type": "execute_result"
    }
   ],
   "source": [
    "df.apply(len , axis = 'columns')"
   ]
  },
  {
   "cell_type": "code",
   "execution_count": 126,
   "id": "stupid-network",
   "metadata": {},
   "outputs": [
    {
     "data": {
      "text/plain": [
       "3"
      ]
     },
     "execution_count": 126,
     "metadata": {},
     "output_type": "execute_result"
    }
   ],
   "source": [
    "len(df['email'])"
   ]
  },
  {
   "cell_type": "code",
   "execution_count": 127,
   "id": "above-switch",
   "metadata": {},
   "outputs": [
    {
     "data": {
      "text/plain": [
       "email        janesloan@gmail.com\n",
       "first                       JANE\n",
       "last                       Brady\n",
       "workplace             Freelancer\n",
       "dtype: object"
      ]
     },
     "execution_count": 127,
     "metadata": {},
     "output_type": "execute_result"
    }
   ],
   "source": [
    "df.apply(pd.Series.min)"
   ]
  },
  {
   "cell_type": "code",
   "execution_count": 128,
   "id": "detected-tamil",
   "metadata": {},
   "outputs": [
    {
     "data": {
      "text/plain": [
       "email        janesloan@gmail.com\n",
       "first                       JANE\n",
       "last                       Brady\n",
       "workplace             Freelancer\n",
       "dtype: object"
      ]
     },
     "execution_count": 128,
     "metadata": {},
     "output_type": "execute_result"
    }
   ],
   "source": [
    "df.apply(lambda x : x.min()) #Using Lambda Function"
   ]
  },
  {
   "cell_type": "markdown",
   "id": "ahead-kitchen",
   "metadata": {},
   "source": [
    "Apply map"
   ]
  },
  {
   "cell_type": "code",
   "execution_count": 129,
   "id": "biological-cattle",
   "metadata": {},
   "outputs": [
    {
     "data": {
      "text/html": [
       "<div>\n",
       "<style scoped>\n",
       "    .dataframe tbody tr th:only-of-type {\n",
       "        vertical-align: middle;\n",
       "    }\n",
       "\n",
       "    .dataframe tbody tr th {\n",
       "        vertical-align: top;\n",
       "    }\n",
       "\n",
       "    .dataframe thead th {\n",
       "        text-align: right;\n",
       "    }\n",
       "</style>\n",
       "<table border=\"1\" class=\"dataframe\">\n",
       "  <thead>\n",
       "    <tr style=\"text-align: right;\">\n",
       "      <th></th>\n",
       "      <th>email</th>\n",
       "      <th>first</th>\n",
       "      <th>last</th>\n",
       "      <th>workplace</th>\n",
       "    </tr>\n",
       "  </thead>\n",
       "  <tbody>\n",
       "    <tr>\n",
       "      <th>0</th>\n",
       "      <td>16</td>\n",
       "      <td>6</td>\n",
       "      <td>5</td>\n",
       "      <td>7</td>\n",
       "    </tr>\n",
       "    <tr>\n",
       "      <th>1</th>\n",
       "      <td>17</td>\n",
       "      <td>3</td>\n",
       "      <td>6</td>\n",
       "      <td>7</td>\n",
       "    </tr>\n",
       "    <tr>\n",
       "      <th>2</th>\n",
       "      <td>19</td>\n",
       "      <td>4</td>\n",
       "      <td>5</td>\n",
       "      <td>10</td>\n",
       "    </tr>\n",
       "  </tbody>\n",
       "</table>\n",
       "</div>"
      ],
      "text/plain": [
       "   email  first  last  workplace\n",
       "0     16      6     5          7\n",
       "1     17      3     6          7\n",
       "2     19      4     5         10"
      ]
     },
     "execution_count": 129,
     "metadata": {},
     "output_type": "execute_result"
    }
   ],
   "source": [
    "df.applymap(len)\n",
    "#Applies on every element"
   ]
  },
  {
   "cell_type": "code",
   "execution_count": 130,
   "id": "moderate-logging",
   "metadata": {},
   "outputs": [
    {
     "data": {
      "text/html": [
       "<div>\n",
       "<style scoped>\n",
       "    .dataframe tbody tr th:only-of-type {\n",
       "        vertical-align: middle;\n",
       "    }\n",
       "\n",
       "    .dataframe tbody tr th {\n",
       "        vertical-align: top;\n",
       "    }\n",
       "\n",
       "    .dataframe thead th {\n",
       "        text-align: right;\n",
       "    }\n",
       "</style>\n",
       "<table border=\"1\" class=\"dataframe\">\n",
       "  <thead>\n",
       "    <tr style=\"text-align: right;\">\n",
       "      <th></th>\n",
       "      <th>email</th>\n",
       "      <th>first</th>\n",
       "      <th>last</th>\n",
       "      <th>workplace</th>\n",
       "    </tr>\n",
       "  </thead>\n",
       "  <tbody>\n",
       "    <tr>\n",
       "      <th>0</th>\n",
       "      <td>sutton@gmail.com</td>\n",
       "      <td>sutton</td>\n",
       "      <td>brady</td>\n",
       "      <td>scarlet</td>\n",
       "    </tr>\n",
       "    <tr>\n",
       "      <th>1</th>\n",
       "      <td>kat1233@gmail.com</td>\n",
       "      <td>kat</td>\n",
       "      <td>edison</td>\n",
       "      <td>scarlet</td>\n",
       "    </tr>\n",
       "    <tr>\n",
       "      <th>2</th>\n",
       "      <td>janesloan@gmail.com</td>\n",
       "      <td>jane</td>\n",
       "      <td>sloan</td>\n",
       "      <td>freelancer</td>\n",
       "    </tr>\n",
       "  </tbody>\n",
       "</table>\n",
       "</div>"
      ],
      "text/plain": [
       "                 email   first    last   workplace\n",
       "0     sutton@gmail.com  sutton   brady     scarlet\n",
       "1    kat1233@gmail.com     kat  edison     scarlet\n",
       "2  janesloan@gmail.com    jane   sloan  freelancer"
      ]
     },
     "execution_count": 130,
     "metadata": {},
     "output_type": "execute_result"
    }
   ],
   "source": [
    "df.applymap(str.lower)"
   ]
  },
  {
   "cell_type": "markdown",
   "id": "attempted-output",
   "metadata": {},
   "source": [
    "Map\n",
    "\n"
   ]
  },
  {
   "cell_type": "code",
   "execution_count": 131,
   "id": "funky-symposium",
   "metadata": {},
   "outputs": [
    {
     "data": {
      "text/html": [
       "<div>\n",
       "<style scoped>\n",
       "    .dataframe tbody tr th:only-of-type {\n",
       "        vertical-align: middle;\n",
       "    }\n",
       "\n",
       "    .dataframe tbody tr th {\n",
       "        vertical-align: top;\n",
       "    }\n",
       "\n",
       "    .dataframe thead th {\n",
       "        text-align: right;\n",
       "    }\n",
       "</style>\n",
       "<table border=\"1\" class=\"dataframe\">\n",
       "  <thead>\n",
       "    <tr style=\"text-align: right;\">\n",
       "      <th></th>\n",
       "      <th>email</th>\n",
       "      <th>first</th>\n",
       "      <th>last</th>\n",
       "      <th>workplace</th>\n",
       "    </tr>\n",
       "  </thead>\n",
       "  <tbody>\n",
       "    <tr>\n",
       "      <th>0</th>\n",
       "      <td>sutton@gmail.com</td>\n",
       "      <td>SUTTON</td>\n",
       "      <td>Brady</td>\n",
       "      <td>Scarlet</td>\n",
       "    </tr>\n",
       "    <tr>\n",
       "      <th>1</th>\n",
       "      <td>kat1233@gmail.com</td>\n",
       "      <td>KAT</td>\n",
       "      <td>Edison</td>\n",
       "      <td>Scarlet</td>\n",
       "    </tr>\n",
       "    <tr>\n",
       "      <th>2</th>\n",
       "      <td>janesloan@gmail.com</td>\n",
       "      <td>JANE</td>\n",
       "      <td>sloan</td>\n",
       "      <td>Freelancer</td>\n",
       "    </tr>\n",
       "  </tbody>\n",
       "</table>\n",
       "</div>"
      ],
      "text/plain": [
       "                 email   first    last   workplace\n",
       "0     sutton@gmail.com  SUTTON   Brady     Scarlet\n",
       "1    kat1233@gmail.com     KAT  Edison     Scarlet\n",
       "2  janesloan@gmail.com    JANE   sloan  Freelancer"
      ]
     },
     "execution_count": 131,
     "metadata": {},
     "output_type": "execute_result"
    }
   ],
   "source": [
    "df"
   ]
  },
  {
   "cell_type": "code",
   "execution_count": 134,
   "id": "flush-patch",
   "metadata": {},
   "outputs": [
    {
     "data": {
      "text/plain": [
       "0    Sutton\n",
       "1       NaN\n",
       "2      Jane\n",
       "Name: first, dtype: object"
      ]
     },
     "execution_count": 134,
     "metadata": {},
     "output_type": "execute_result"
    }
   ],
   "source": [
    "df['first'].map({'SUTTON' : 'Sutton' , 'JANE' : 'Jane'})"
   ]
  },
  {
   "cell_type": "code",
   "execution_count": 136,
   "id": "urban-median",
   "metadata": {},
   "outputs": [
    {
     "data": {
      "text/html": [
       "<div>\n",
       "<style scoped>\n",
       "    .dataframe tbody tr th:only-of-type {\n",
       "        vertical-align: middle;\n",
       "    }\n",
       "\n",
       "    .dataframe tbody tr th {\n",
       "        vertical-align: top;\n",
       "    }\n",
       "\n",
       "    .dataframe thead th {\n",
       "        text-align: right;\n",
       "    }\n",
       "</style>\n",
       "<table border=\"1\" class=\"dataframe\">\n",
       "  <thead>\n",
       "    <tr style=\"text-align: right;\">\n",
       "      <th></th>\n",
       "      <th>email</th>\n",
       "      <th>first</th>\n",
       "      <th>last</th>\n",
       "      <th>workplace</th>\n",
       "    </tr>\n",
       "  </thead>\n",
       "  <tbody>\n",
       "    <tr>\n",
       "      <th>0</th>\n",
       "      <td>sutton@gmail.com</td>\n",
       "      <td>SUTTON</td>\n",
       "      <td>Brady</td>\n",
       "      <td>Scarlet</td>\n",
       "    </tr>\n",
       "    <tr>\n",
       "      <th>1</th>\n",
       "      <td>kat1233@gmail.com</td>\n",
       "      <td>KAT</td>\n",
       "      <td>Edison</td>\n",
       "      <td>Scarlet</td>\n",
       "    </tr>\n",
       "    <tr>\n",
       "      <th>2</th>\n",
       "      <td>janesloan@gmail.com</td>\n",
       "      <td>JANE</td>\n",
       "      <td>Sloan</td>\n",
       "      <td>Freelancer</td>\n",
       "    </tr>\n",
       "  </tbody>\n",
       "</table>\n",
       "</div>"
      ],
      "text/plain": [
       "                 email   first    last   workplace\n",
       "0     sutton@gmail.com  SUTTON   Brady     Scarlet\n",
       "1    kat1233@gmail.com     KAT  Edison     Scarlet\n",
       "2  janesloan@gmail.com    JANE   Sloan  Freelancer"
      ]
     },
     "execution_count": 136,
     "metadata": {},
     "output_type": "execute_result"
    }
   ],
   "source": [
    "df['first'] = df['first'].replace({'Sutton' : 'sutton'})\n",
    "df"
   ]
  },
  {
   "cell_type": "code",
   "execution_count": null,
   "id": "mature-parks",
   "metadata": {},
   "outputs": [],
   "source": []
  }
 ],
 "metadata": {
  "kernelspec": {
   "display_name": "Python 3",
   "language": "python",
   "name": "python3"
  },
  "language_info": {
   "codemirror_mode": {
    "name": "ipython",
    "version": 3
   },
   "file_extension": ".py",
   "mimetype": "text/x-python",
   "name": "python",
   "nbconvert_exporter": "python",
   "pygments_lexer": "ipython3",
   "version": "3.8.0"
  }
 },
 "nbformat": 4,
 "nbformat_minor": 5
}